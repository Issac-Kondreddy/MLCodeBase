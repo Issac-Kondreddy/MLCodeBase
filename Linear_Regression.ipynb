{
 "cells": [
  {
   "cell_type": "code",
   "id": "initial_id",
   "metadata": {
    "collapsed": true,
    "ExecuteTime": {
     "end_time": "2025-02-27T17:08:28.277957Z",
     "start_time": "2025-02-27T17:08:28.270042Z"
    }
   },
   "source": [
    "import pandas as pd\n",
    "import numpy as np\n",
    "import matplotlib.pyplot as plt\n",
    "import matplotlib.axes as ax\n",
    "from matplotlib.animation import FuncAnimation"
   ],
   "outputs": [],
   "execution_count": 7
  },
  {
   "metadata": {
    "ExecuteTime": {
     "end_time": "2025-02-27T17:08:28.654886Z",
     "start_time": "2025-02-27T17:08:28.646455Z"
    }
   },
   "cell_type": "code",
   "source": [
    "df = pd.read_csv('Datasets/data_for_lr.csv')\n",
    "df.head()"
   ],
   "id": "1b72723ad5b3dbbe",
   "outputs": [
    {
     "data": {
      "text/plain": [
       "      x          y\n",
       "0  24.0  21.549452\n",
       "1  50.0  47.464463\n",
       "2  15.0  17.218656\n",
       "3  38.0  36.586398\n",
       "4  87.0  87.288984"
      ],
      "text/html": [
       "<div>\n",
       "<style scoped>\n",
       "    .dataframe tbody tr th:only-of-type {\n",
       "        vertical-align: middle;\n",
       "    }\n",
       "\n",
       "    .dataframe tbody tr th {\n",
       "        vertical-align: top;\n",
       "    }\n",
       "\n",
       "    .dataframe thead th {\n",
       "        text-align: right;\n",
       "    }\n",
       "</style>\n",
       "<table border=\"1\" class=\"dataframe\">\n",
       "  <thead>\n",
       "    <tr style=\"text-align: right;\">\n",
       "      <th></th>\n",
       "      <th>x</th>\n",
       "      <th>y</th>\n",
       "    </tr>\n",
       "  </thead>\n",
       "  <tbody>\n",
       "    <tr>\n",
       "      <th>0</th>\n",
       "      <td>24.0</td>\n",
       "      <td>21.549452</td>\n",
       "    </tr>\n",
       "    <tr>\n",
       "      <th>1</th>\n",
       "      <td>50.0</td>\n",
       "      <td>47.464463</td>\n",
       "    </tr>\n",
       "    <tr>\n",
       "      <th>2</th>\n",
       "      <td>15.0</td>\n",
       "      <td>17.218656</td>\n",
       "    </tr>\n",
       "    <tr>\n",
       "      <th>3</th>\n",
       "      <td>38.0</td>\n",
       "      <td>36.586398</td>\n",
       "    </tr>\n",
       "    <tr>\n",
       "      <th>4</th>\n",
       "      <td>87.0</td>\n",
       "      <td>87.288984</td>\n",
       "    </tr>\n",
       "  </tbody>\n",
       "</table>\n",
       "</div>"
      ]
     },
     "execution_count": 8,
     "metadata": {},
     "output_type": "execute_result"
    }
   ],
   "execution_count": 8
  },
  {
   "metadata": {
    "ExecuteTime": {
     "end_time": "2025-02-27T17:08:29.662567Z",
     "start_time": "2025-02-27T17:08:29.658604Z"
    }
   },
   "cell_type": "code",
   "source": "df.shape",
   "id": "1d093b59070de74d",
   "outputs": [
    {
     "data": {
      "text/plain": [
       "(700, 2)"
      ]
     },
     "execution_count": 9,
     "metadata": {},
     "output_type": "execute_result"
    }
   ],
   "execution_count": 9
  },
  {
   "metadata": {
    "ExecuteTime": {
     "end_time": "2025-02-27T17:08:30.125280Z",
     "start_time": "2025-02-27T17:08:30.121138Z"
    }
   },
   "cell_type": "code",
   "source": [
    "x_train = np.array(df.x[:500]).reshape(500,1)\n",
    "y_train = np.array(df.y[:500]).reshape(500,1)\n",
    "x_test = np.array(df.x[500:]).reshape(200,1)\n",
    "y_test = np.array(df.y[500:]).reshape(200,1)"
   ],
   "id": "9f023759185fe626",
   "outputs": [],
   "execution_count": 10
  },
  {
   "metadata": {
    "ExecuteTime": {
     "end_time": "2025-02-27T17:12:46.246860Z",
     "start_time": "2025-02-27T17:12:46.236418Z"
    }
   },
   "cell_type": "code",
   "source": [
    "class LinearRegression:\n",
    "    def __init__(self):\n",
    "        self.parameters = {}\n",
    "    def lr(self,train_input):\n",
    "        m = self.parameters['m']\n",
    "        c = self.parameters['c']\n",
    "        predictions = np.multiply(train_input,m) + c\n",
    "        return predictions\n",
    "    def cost_function(self, predictions, train_output):\n",
    "        cost = np.mean((train_output - predictions)**2)\n",
    "        return cost\n",
    "    def gradient_function(self,train_input, predictions, train_output):\n",
    "        derivatives = {}\n",
    "        df = (predictions - train_output)\n",
    "        dm = 2 * np.mean(np.multiply(df,train_input))\n",
    "        dc = 2 * np.mean(df)\n",
    "        derivatives['dm'] = dm\n",
    "        derivatives['dc'] = dc\n",
    "        return derivatives\n",
    "    def update_parameters(self,derivatives, learning_rate):\n",
    "        self.parameters['m'] = self.parameters['m'] - learning_rate * derivatives['dm']\n",
    "        self.parameters['c'] = self.parameters['c'] - learning_rate * derivatives['dc']\n",
    "\n",
    "    def train(self, train_input, train_output, learning_rate, iters):\n",
    "        self.parameters['m'] = np.random.randn() * 0.1  # Small random initialization\n",
    "        self.parameters['c'] = np.random.randn() * 0.1\n",
    "        self.loss = []\n",
    "\n",
    "        fig, ax = plt.subplots()\n",
    "        x_vals = np.linspace(min(train_input), max(train_input), 100)\n",
    "        line, = ax.plot(x_vals, self.parameters['m'] * x_vals +\n",
    "                        self.parameters['c'], color='red', label='Regression Line')\n",
    "        ax.scatter(train_input, train_output, marker='o',\n",
    "                   color='green', label='Training Data')\n",
    "\n",
    "        ax.set_ylim(0, max(train_output) + 1)\n",
    "\n",
    "        def update(frame):\n",
    "            predictions = self.lr(train_input)\n",
    "            cost = self.cost_function(predictions, train_output)\n",
    "\n",
    "            if np.isnan(cost) or np.isinf(cost):  # Stop if cost explodes\n",
    "                print(\"Stopping training due to numerical instability.\")\n",
    "                ani.event_source.stop()\n",
    "                return line,\n",
    "\n",
    "            derivatives = self.gradient_function(train_input, predictions, train_output)\n",
    "            self.update_parameters(derivatives, learning_rate)\n",
    "\n",
    "            line.set_ydata(self.parameters['m'] * x_vals + self.parameters['c'])\n",
    "            self.loss.append(cost)\n",
    "            print(\"Iteration = {}, Loss = {}\".format(frame + 1, cost))\n",
    "\n",
    "            return line,\n",
    "\n",
    "        ani = FuncAnimation(fig, update, frames=iters, interval=200, blit=False)\n",
    "\n",
    "        ani.save('linear_regression_A.gif', writer='pillow')\n",
    "\n",
    "        plt.xlabel('Input')\n",
    "        plt.ylabel('Output')\n",
    "        plt.title('Linear Regression')\n",
    "        plt.legend()\n",
    "        plt.show()\n",
    "\n",
    "        return self.parameters, self.loss\n"
   ],
   "id": "94930af39d6d5eba",
   "outputs": [],
   "execution_count": 22
  },
  {
   "metadata": {
    "ExecuteTime": {
     "end_time": "2025-02-27T17:12:47.325543Z",
     "start_time": "2025-02-27T17:12:46.751604Z"
    }
   },
   "cell_type": "code",
   "source": [
    "linear_reg = LinearRegression()\n",
    "parameters, loss = linear_reg.train(x_train, y_train, 0.00001, 20)"
   ],
   "id": "196cfe4eedc6dc10",
   "outputs": [
    {
     "name": "stdout",
     "output_type": "stream",
     "text": [
      "Stopping training due to numerical instability.\n",
      "Stopping training due to numerical instability.\n",
      "Stopping training due to numerical instability.\n",
      "Stopping training due to numerical instability.\n",
      "Stopping training due to numerical instability.\n",
      "Stopping training due to numerical instability.\n",
      "Stopping training due to numerical instability.\n",
      "Stopping training due to numerical instability.\n",
      "Stopping training due to numerical instability.\n",
      "Stopping training due to numerical instability.\n",
      "Stopping training due to numerical instability.\n",
      "Stopping training due to numerical instability.\n",
      "Stopping training due to numerical instability.\n",
      "Stopping training due to numerical instability.\n",
      "Stopping training due to numerical instability.\n",
      "Stopping training due to numerical instability.\n",
      "Stopping training due to numerical instability.\n",
      "Stopping training due to numerical instability.\n",
      "Stopping training due to numerical instability.\n",
      "Stopping training due to numerical instability.\n",
      "Stopping training due to numerical instability.\n"
     ]
    },
    {
     "data": {
      "text/plain": [
       "<Figure size 640x480 with 1 Axes>"
      ],
      "image/png": "[encoded data removed]"
     },
     "metadata": {},
     "output_type": "display_data"
    }
   ],
   "execution_count": 23
  },
  {
   "metadata": {},
   "cell_type": "code",
   "outputs": [],
   "execution_count": null,
   "source": "",
   "id": "dae126fc552d4cb4"
  }
 ],
 "metadata": {
  "kernelspec": {
   "display_name": "Python 3",
   "language": "python",
   "name": "python3"
  },
  "language_info": {
   "codemirror_mode": {
    "name": "ipython",
    "version": 2
   },
   "file_extension": ".py",
   "mimetype": "text/x-python",
   "name": "python",
   "nbconvert_exporter": "python",
   "pygments_lexer": "ipython2",
   "version": "2.7.6"
  }
 },
 "nbformat": 4,
 "nbformat_minor": 5
}
