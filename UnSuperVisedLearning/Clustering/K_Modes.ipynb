{
 "cells": [
  {
   "cell_type": "code",
   "execution_count": null,
   "id": "initial_id",
   "metadata": {
    "collapsed": true
   },
   "outputs": [],
   "source": [
    ""
   ]
  },
  {
   "metadata": {
    "ExecuteTime": {
     "end_time": "2025-03-14T17:50:23.394693Z",
     "start_time": "2025-03-14T17:50:22.038267Z"
    }
   },
   "cell_type": "code",
   "source": [
    "# First, let's install the kmodes package\n",
    "# pip install kmodes\n",
    "\n",
    "from kmodes.kmodes import KModes\n",
    "import numpy as np\n",
    "\n",
    "# Example data: let's imagine these are survey data from a shopping mall\n",
    "data = np.array([\n",
    "    [\"male\", \"young\", \"low\"],\n",
    "    [\"male\", \"young\", \"medium\"],\n",
    "    [\"female\", \"young\", \"low\"],\n",
    "    [\"female\", \"old\", \"medium\"],\n",
    "    [\"male\", \"old\", \"high\"],\n",
    "    [\"female\", \"old\", \"low\"]\n",
    "])\n",
    "\n",
    "# Initialize the KModes model\n",
    "km = KModes(n_clusters=2, init='Huang', n_init=5, verbose=1)\n",
    "\n",
    "# Fit the clusters\n",
    "clusters = km.fit_predict(data)\n",
    "\n",
    "# Print the cluster centroids\n",
    "print(\"Cluster centroids:\")\n",
    "print(km.cluster_centroids_)\n",
    "\n",
    "# Output the clusters\n",
    "print(\"Data points and their cluster assignments:\", clusters)\n"
   ],
   "id": "64e0542215a06288",
   "outputs": [
    {
     "name": "stdout",
     "output_type": "stream",
     "text": [
      "Init: initializing centroids\n",
      "Init: initializing clusters\n",
      "Starting iterations...\n",
      "Run 1, iteration: 1/100, moves: 0, cost: 5.0\n",
      "Init: initializing centroids\n",
      "Init: initializing clusters\n",
      "Starting iterations...\n",
      "Run 2, iteration: 1/100, moves: 0, cost: 7.0\n",
      "Init: initializing centroids\n",
      "Init: initializing clusters\n",
      "Starting iterations...\n",
      "Run 3, iteration: 1/100, moves: 0, cost: 6.0\n",
      "Init: initializing centroids\n",
      "Init: initializing clusters\n",
      "Starting iterations...\n",
      "Run 4, iteration: 1/100, moves: 0, cost: 5.0\n",
      "Init: initializing centroids\n",
      "Init: initializing clusters\n",
      "Starting iterations...\n",
      "Run 5, iteration: 1/100, moves: 0, cost: 5.0\n",
      "Best run was number 1\n",
      "Cluster centroids:\n",
      "[['male' 'old' 'medium']\n",
      " ['female' 'young' 'low']]\n",
      "Data points and their cluster assignments: [1 0 1 0 0 1]\n"
     ]
    }
   ],
   "execution_count": 1
  },
  {
   "metadata": {},
   "cell_type": "code",
   "outputs": [],
   "execution_count": null,
   "source": "",
   "id": "1d613a93c092a25d"
  }
 ],
 "metadata": {
  "kernelspec": {
   "display_name": "Python 3",
   "language": "python",
   "name": "python3"
  },
  "language_info": {
   "codemirror_mode": {
    "name": "ipython",
    "version": 2
   },
   "file_extension": ".py",
   "mimetype": "text/x-python",
   "name": "python",
   "nbconvert_exporter": "python",
   "pygments_lexer": "ipython2",
   "version": "2.7.6"
  }
 },
 "nbformat": 4,
 "nbformat_minor": 5
}
