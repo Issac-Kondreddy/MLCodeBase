{
 "cells": [
  {
   "cell_type": "code",
   "id": "initial_id",
   "metadata": {
    "collapsed": true,
    "ExecuteTime": {
     "end_time": "2025-03-11T17:02:53.553664Z",
     "start_time": "2025-03-11T17:02:53.543602Z"
    }
   },
   "source": [
    "import numpy as np\n",
    "from sklearn.tree import DecisionTreeClassifier\n",
    "from sklearn.datasets import load_iris\n",
    "from sklearn.model_selection import train_test_split\n",
    "from sklearn.metrics import accuracy_score\n",
    "from sklearn.datasets import make_classification"
   ],
   "outputs": [],
   "execution_count": 6
  },
  {
   "metadata": {
    "ExecuteTime": {
     "end_time": "2025-03-11T17:06:09.910536Z",
     "start_time": "2025-03-11T17:06:09.899479Z"
    }
   },
   "cell_type": "code",
   "source": [
    "class AdaBoost:\n",
    "    def __init__(self, n_estimators=50):\n",
    "        self.n_estimators = n_estimators\n",
    "        self.weights = []\n",
    "        self.models = []\n",
    "\n",
    "    def fit(self, X, y):\n",
    "        n_samples, n_features = X.shape\n",
    "        w = np.ones(n_samples)/n_samples\n",
    "        for _ in range(self.n_estimators):\n",
    "            model = DecisionTreeClassifier(max_depth=1)\n",
    "            model.fit(X, y, sample_weight=w)\n",
    "            predictions = model.predict(X)\n",
    "            error = np.sum(w*(predictions!=y))/np.sum(w)\n",
    "            weight = 0.5 * np.log((1-error) / (error+1e-10))\n",
    "            self.weights.append(weight)\n",
    "            self.models.append(model)\n",
    "            w = w * np.exp(-weight*y*predictions)\n",
    "            w = w/np.sum(w)\n",
    "\n",
    "    def predict(self, X):\n",
    "        strong_preds = np.zeros(X.shape[0])\n",
    "        for model, weight in zip(self.models, self.weights):\n",
    "            strong_preds += model.predict(X)*weight\n",
    "        return np.sign(strong_preds).astype(int)"
   ],
   "id": "b7c8a3a380bf8050",
   "outputs": [],
   "execution_count": 9
  },
  {
   "metadata": {
    "ExecuteTime": {
     "end_time": "2025-03-11T17:06:49.362280Z",
     "start_time": "2025-03-11T17:06:24.912415Z"
    }
   },
   "cell_type": "code",
   "source": [
    "if __name__ == \"__main__\":\n",
    "\n",
    "    X, y = make_classification(n_samples=10000, n_features=200, n_classes=2, random_state=42)\n",
    "    X_train, X_test, y_train, y_test = train_test_split(X, y, test_size=0.3, random_state=42)\n",
    "\n",
    "    adaboost = AdaBoost(n_estimators=200)\n",
    "    adaboost.fit(X_train, y_train)\n",
    "\n",
    "    predictions = adaboost.predict(X_test)\n",
    "\n",
    "    accuracy = accuracy_score(y_test, predictions)\n",
    "    print(f\"Accuracy: {accuracy * 100}%\")\n"
   ],
   "id": "310e7d9c05a8a366",
   "outputs": [
    {
     "name": "stdout",
     "output_type": "stream",
     "text": [
      "Accuracy: 88.36666666666667%\n"
     ]
    }
   ],
   "execution_count": 13
  },
  {
   "metadata": {},
   "cell_type": "code",
   "outputs": [],
   "execution_count": null,
   "source": "",
   "id": "ba025f192efbda7e"
  }
 ],
 "metadata": {
  "kernelspec": {
   "display_name": "Python 3",
   "language": "python",
   "name": "python3"
  },
  "language_info": {
   "codemirror_mode": {
    "name": "ipython",
    "version": 2
   },
   "file_extension": ".py",
   "mimetype": "text/x-python",
   "name": "python",
   "nbconvert_exporter": "python",
   "pygments_lexer": "ipython2",
   "version": "2.7.6"
  }
 },
 "nbformat": 4,
 "nbformat_minor": 5
}
