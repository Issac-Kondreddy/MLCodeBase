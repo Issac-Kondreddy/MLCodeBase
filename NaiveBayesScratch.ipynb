{
 "cells": [
  {
   "cell_type": "code",
   "id": "initial_id",
   "metadata": {
    "collapsed": true,
    "ExecuteTime": {
     "end_time": "2025-03-07T20:00:32.904920Z",
     "start_time": "2025-03-07T20:00:32.293279Z"
    }
   },
   "source": [
    "import math\n",
    "import random\n",
    "import pandas as pd\n",
    "import matplotlib.pyplot as plt\n",
    "import numpy as np"
   ],
   "outputs": [],
   "execution_count": 1
  },
  {
   "metadata": {
    "ExecuteTime": {
     "end_time": "2025-03-07T20:43:07.528637Z",
     "start_time": "2025-03-07T20:43:07.523382Z"
    }
   },
   "cell_type": "code",
   "source": [
    "class NaiveBayesClassifier:\n",
    "    def __init__(self):\n",
    "        # Explicitly initializing both spam and not_spam to avoid KeyError\n",
    "        self.word_counts = {'spam': {}, 'not_spam': {}}\n",
    "        self.p_spam = 0\n",
    "        self.p_non_spam = 0\n",
    "\n",
    "    def train(self, data):\n",
    "        total_spam = 0\n",
    "        total_non_spam = 0\n",
    "\n",
    "        for email, label in data:\n",
    "            if label == 'spam':\n",
    "                total_spam += 1\n",
    "            elif label == 'not_spam':  # Ensure this label matches exactly with your data\n",
    "                total_non_spam += 1\n",
    "\n",
    "            # Ensure this loop is properly aligned to handle all labels\n",
    "            if label not in self.word_counts:\n",
    "                self.word_counts[label] = {}\n",
    "            for word in email.split():\n",
    "                if word not in self.word_counts[label]:\n",
    "                    self.word_counts[label][word] = 0\n",
    "                self.word_counts[label][word] += 1\n",
    "\n",
    "        self.p_spam = total_spam / len(data)\n",
    "        self.p_non_spam = total_non_spam / len(data)\n",
    "\n",
    "    def predict(self, email):\n",
    "        spam_prob = self.p_spam\n",
    "        non_spam_prob = self.p_non_spam\n",
    "\n",
    "        for word in email.split():\n",
    "            # Handling missing words with Laplace smoothing for spam\n",
    "            spam_prob *= (self.word_counts['spam'].get(word, 0) + 1) / \\\n",
    "                         (sum(self.word_counts['spam'].values()) + len(self.word_counts['spam']))\n",
    "\n",
    "            # Handling missing words with Laplace smoothing for not_spam\n",
    "            non_spam_prob *= (self.word_counts['not_spam'].get(word, 0) + 1) / \\\n",
    "                             (sum(self.word_counts['not_spam'].values()) + len(self.word_counts['not_spam']))\n",
    "\n",
    "        return 'spam' if spam_prob > non_spam_prob else 'not_spam'"
   ],
   "id": "7e5f4e0fec71e91",
   "outputs": [],
   "execution_count": 8
  },
  {
   "metadata": {
    "ExecuteTime": {
     "end_time": "2025-03-07T20:43:08.240125Z",
     "start_time": "2025-03-07T20:43:08.235193Z"
    }
   },
   "cell_type": "code",
   "source": [
    "emails = [\n",
    "    (\"win free money now\", \"spam\"),\n",
    "    (\"low price for valued customer\", \"spam\"),\n",
    "    (\"meet me at noon\", \"not_spam\"),\n",
    "    (\"this is your captain speaking\", \"not_spam\")\n",
    "]\n",
    "\n",
    "classifier = NaiveBayesClassifier()\n",
    "classifier.train(emails)\n",
    "\n",
    "# Test with a new email\n",
    "test_email = \"free money offer\"\n",
    "print(classifier.predict(test_email))  # Expected output: 'spam'\n"
   ],
   "id": "7c9050ca50478a9",
   "outputs": [
    {
     "name": "stdout",
     "output_type": "stream",
     "text": [
      "spam\n"
     ]
    }
   ],
   "execution_count": 9
  },
  {
   "metadata": {},
   "cell_type": "code",
   "outputs": [],
   "execution_count": null,
   "source": "",
   "id": "da3d02f3a0d82f8"
  }
 ],
 "metadata": {
  "kernelspec": {
   "display_name": "Python 3",
   "language": "python",
   "name": "python3"
  },
  "language_info": {
   "codemirror_mode": {
    "name": "ipython",
    "version": 2
   },
   "file_extension": ".py",
   "mimetype": "text/x-python",
   "name": "python",
   "nbconvert_exporter": "python",
   "pygments_lexer": "ipython2",
   "version": "2.7.6"
  }
 },
 "nbformat": 4,
 "nbformat_minor": 5
}
